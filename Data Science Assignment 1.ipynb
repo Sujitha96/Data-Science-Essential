{
 "cells": [
  {
   "cell_type": "markdown",
   "metadata": {},
   "source": [
    "# Questions 1:\n",
    "# Given the following jumbled word, OBANWRI guess the correct English word.\n",
    "\n",
    "#        A. RANIBOW\n",
    " \n",
    "#        B. RAINBOW\n",
    " \n",
    "#        C. BOWRANI\n",
    " \n",
    "#        D. ROBWANI"
   ]
  },
  {
   "cell_type": "code",
   "execution_count": 1,
   "metadata": {},
   "outputs": [
    {
     "name": "stdout",
     "output_type": "stream",
     "text": [
      "RAINBOW\n"
     ]
    }
   ],
   "source": [
    "correctword = \"RAINBOW\"\n",
    "lst = [\"RANIBOW\",\"RAINBOW\",\"BOWRANI\",\"ROBWANI\"]\n",
    "for i in lst:\n",
    "    \n",
    "    if(i == correctword):\n",
    "        print(\"RAINBOW\")"
   ]
  },
  {
   "cell_type": "markdown",
   "metadata": {},
   "source": [
    "# Questions 2:\n",
    "# Write a program which prints “LETS UPGRADE”. (Please note that you have to print in ALL CAPS as given)"
   ]
  },
  {
   "cell_type": "code",
   "execution_count": 2,
   "metadata": {},
   "outputs": [
    {
     "name": "stdout",
     "output_type": "stream",
     "text": [
      "LETSUPGRADE\n"
     ]
    }
   ],
   "source": [
    "print(\"LETSUPGRADE\")"
   ]
  },
  {
   "cell_type": "markdown",
   "metadata": {},
   "source": [
    "# Questions 3:\n",
    "# Write a program that takes cost price and selling price as input and displays whether the transaction is a\n",
    "# Profit or a Loss or Neither.\n",
    "# INPUT FORMAT\n",
    "# The first line contains the cost price.\n",
    "# The second line contains the selling price.\n",
    "# OUTPUT FORMAT\n",
    "# Print \"Profit\" if the transaction is a profit or \"Loss\" if it is a loss. If it is neither\n",
    "# profit nor loss, print \"Neither\". (You must not have quotes in your output)"
   ]
  },
  {
   "cell_type": "code",
   "execution_count": 3,
   "metadata": {},
   "outputs": [
    {
     "name": "stdout",
     "output_type": "stream",
     "text": [
      "100\n",
      "60\n",
      "Loss\n"
     ]
    }
   ],
   "source": [
    "costprice = int(input())\n",
    "sellingprice = int(input())\n",
    "\n",
    "profit = sellingprice - costprice \n",
    "loss = costprice - sellingprice\n",
    "\n",
    "if profit > loss:\n",
    "    print(\"Profit\")\n",
    "elif loss > profit:\n",
    "    print(\"Loss\")\n",
    "else:\n",
    "    print(\"Neither\")"
   ]
  },
  {
   "cell_type": "markdown",
   "metadata": {},
   "source": [
    "# Questions 4:\n",
    "# Write a program that takes an amount in Indian Rupees as input. You need to find its equivalent in Euro and display it. Assume 1 Euro equals Rs. 80.\n",
    "# Please note that you are expected to stick to the given input and output format as in sample test cases. Please don't add any extra lines such as 'Enter a number', etc.\n",
    "# Your program should take only one number as input and display the output."
   ]
  },
  {
   "cell_type": "code",
   "execution_count": 4,
   "metadata": {},
   "outputs": [
    {
     "name": "stdout",
     "output_type": "stream",
     "text": [
      "50\n",
      "4000\n"
     ]
    }
   ],
   "source": [
    "rupee = int(input())\n",
    "euro = rupee * 80\n",
    "print(euro)"
   ]
  },
  {
   "cell_type": "code",
   "execution_count": null,
   "metadata": {},
   "outputs": [],
   "source": []
  }
 ],
 "metadata": {
  "kernelspec": {
   "display_name": "Python 3",
   "language": "python",
   "name": "python3"
  },
  "language_info": {
   "codemirror_mode": {
    "name": "ipython",
    "version": 3
   },
   "file_extension": ".py",
   "mimetype": "text/x-python",
   "name": "python",
   "nbconvert_exporter": "python",
   "pygments_lexer": "ipython3",
   "version": "3.7.6"
  }
 },
 "nbformat": 4,
 "nbformat_minor": 4
}
